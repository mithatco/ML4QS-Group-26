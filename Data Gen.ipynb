{
 "cells": [
  {
   "cell_type": "markdown",
   "metadata": {},
   "source": [
    "# Generate Labels"
   ]
  },
  {
   "cell_type": "code",
   "execution_count": 1,
   "metadata": {},
   "outputs": [],
   "source": [
    "import numpy as np\n",
    "import pandas as pd\n",
    "from sklearn.preprocessing import LabelEncoder\n",
    "\n",
    "import matplotlib.pyplot as plt\n",
    "heartRateDf = pd.read_csv(\"Raw Data/Heart Rate 2.csv\")\n",
    "restingHeartRateDf = pd.read_csv(\"Raw Data/Resting Heart Rate 2.csv\")\n",
    "\n",
    "# mean of resting heart rate\n",
    "meanRestingHeartRate = restingHeartRateDf['Resting Heart Rate (count/min)'].mean()\n",
    "\n",
    "heartRateDf['RR Interval BPM Max'] = 60000 / heartRateDf['Min (count/min)'] \n",
    "heartRateDf['RR Interval BPM Min'] = 60000 / heartRateDf['Max (count/min)'] \n",
    "heartRateDf['Estimated HRV'] = heartRateDf['RR Interval BPM Max'] - heartRateDf['RR Interval BPM Min']  \n",
    "#histogram of HRV where HRV > 0\n",
    "# plt.hist(heartRateDf['Estimated HRV'][heartRateDf['Estimated HRV'] > 0], bins=100)\n",
    "lowHRVThresh, medHRVThresh, highHRVTrhesh = heartRateDf['Estimated HRV'][heartRateDf['Estimated HRV'] > 0].quantile([0.25, 0.5, 0.75])\n",
    "lowHeartThresh, medHeartThresh, highHeartTrhesh = heartRateDf['Avg (count/min)'].quantile([0.25, 0.5, 0.75])\n",
    "\n",
    "# making target stress level labels based on:\n",
    "# cardiovascular stress level\n",
    "# heart rate hoog + lage HRV -> stress high\n",
    "# heart rate gemiddeld -> stress medium\n",
    "# heart rate laag -> stress low\n",
    "\n",
    "def generate_label(row):\n",
    "    maxRR = 60000 / row['Min (count/min)'] \n",
    "    minRR = 60000 / row['Max (count/min)'] \n",
    "    estimatedHRV = maxRR - minRR\n",
    "    if row['Avg (count/min)'] > highHeartTrhesh and row['Estimated HRV'] > highHRVTrhesh:\n",
    "        return 'High'\n",
    "    elif row['Avg (count/min)'] > medHeartThresh and row['Estimated HRV'] > medHRVThresh:\n",
    "        return 'Medium'\n",
    "    else:\n",
    "        return 'Low'\n",
    "\n",
    "heartRateDf['Stress Level'] = heartRateDf.apply(generate_label, axis=1)\n",
    "heartRateDf.to_csv(\"Processed Data/Heart Rate With Labels.csv\", index=False)\n"
   ]
  },
  {
   "cell_type": "markdown",
   "metadata": {},
   "source": [
    "# Combine Dataframes"
   ]
  },
  {
   "cell_type": "code",
   "execution_count": 2,
   "metadata": {},
   "outputs": [],
   "source": [
    "import pandas as pd\n",
    "\n",
    "# Load and preprocess the instances data\n",
    "instances = pd.read_csv(\"Processed Data/Heart Rate With Labels.csv\")\n",
    "instances['Date/Time'] = pd.to_datetime(instances['Date/Time']).dt.tz_localize('UTC')\n",
    "instances = instances[['Date/Time', 'Stress Level']]\n",
    "\n",
    "# Define a list of files and the corresponding columns to include\n",
    "files_and_columns = [\n",
    "    (\"Raw Data/Walking Speed 2.csv\", ['Date/Time', 'Walking Speed (km/hr)']),\n",
    "    (\"Raw Data/Environmental Audio Exposure 2.csv\", ['Date/Time', 'Environmental Audio Exposure (dBASPL)']),\n",
    "    (\"Raw Data/Blood Oxygen Saturation 2.csv\", ['Date/Time', 'Blood Oxygen Saturation (%)'])\n",
    "]\n",
    "\n",
    "# Load each file and preprocess the data\n",
    "dataframes = []\n",
    "for file, columns in files_and_columns:\n",
    "    df = pd.read_csv(file)\n",
    "    df['Date/Time'] = pd.to_datetime(df['Date/Time']).dt.tz_localize('UTC')\n",
    "    dataframes.append(df[columns].sort_values('Date/Time'))\n",
    "\n",
    "# Load and preprocess the weather data with the specified format\n",
    "weather_df = pd.read_csv(\"Raw Data/Hourly Weather.csv\")\n",
    "weather_df['Date/Time'] = pd.to_datetime(weather_df['dt_iso'], format='%Y-%m-%d %H:%M:%S %z UTC').dt.round('H')\n",
    "weather_df = weather_df[['Date/Time', 'temp', 'feels_like', 'temp_min', 'temp_max', 'pressure', 'humidity', 'wind_speed', 'rain_1h', 'clouds_all', 'weather_main']].sort_values('Date/Time')\n",
    "\n",
    "# Merge the weather dataframe with the instances dataframe based on the nearest hour\n",
    "instances = pd.merge_asof(instances, weather_df, on='Date/Time', direction='nearest')\n",
    "\n",
    "# Merge all other dataframes with the instances dataframe based on a delta of 5 minutes\n",
    "for df in dataframes:\n",
    "    instances = pd.merge_asof(instances, df, on='Date/Time', tolerance=pd.Timedelta('5min'), direction='nearest')\n",
    "\n",
    "\n",
    "# save the instances data\n",
    "instances.to_csv(\"Processed Data/Instances.csv\", index=False)\n"
   ]
  },
  {
   "cell_type": "markdown",
   "metadata": {},
   "source": [
    "# Impute Values"
   ]
  },
  {
   "cell_type": "code",
   "execution_count": 3,
   "metadata": {},
   "outputs": [
    {
     "name": "stdout",
     "output_type": "stream",
     "text": [
      "Date/Time                                    0\n",
      "Stress Level                                 0\n",
      "temp                                         0\n",
      "feels_like                                   0\n",
      "temp_min                                     0\n",
      "temp_max                                     0\n",
      "pressure                                     0\n",
      "humidity                                     0\n",
      "wind_speed                                   0\n",
      "rain_1h                                  65594\n",
      "clouds_all                                   0\n",
      "weather_main                                 0\n",
      "Walking Speed (km/hr)                    66593\n",
      "Environmental Audio Exposure (dBASPL)    61469\n",
      "Blood Oxygen Saturation (%)              88502\n",
      "dtype: int64\n",
      "Median of Environmental Audio Exposure (dBASPL): 69.73\n",
      "Median of Blood Oxygen Saturation (%): 97.0\n",
      "Number of remaining instances:  17141\n"
     ]
    }
   ],
   "source": [
    "import pandas as pd\n",
    "\n",
    "instances = pd.read_csv('Processed Data/Instances.csv')\n",
    "\n",
    "#print number of missing values in each column\n",
    "print(instances.isnull().sum())\n",
    "\n",
    "# get median of Environmental Audio Exposure (dBASPL)\n",
    "medianAudio = instances['Environmental Audio Exposure (dBASPL)'].median()\n",
    "\n",
    "# ge median of Blood Oxygen Saturation (%)\n",
    "medianBlood = instances['Blood Oxygen Saturation (%)'].median()\n",
    "\n",
    "print('Median of Environmental Audio Exposure (dBASPL):', medianAudio)\n",
    "print('Median of Blood Oxygen Saturation (%):', medianBlood)\n",
    "\n",
    "# if only one column is missing:\n",
    "#     impute values based on the median of the column\n",
    "#     add to instances\n",
    "# if two columns are missing:\n",
    "#     impute only if walking speed is present\n",
    "#     add to instances\n",
    "\n",
    "\n",
    "for i, row in instances.iterrows():\n",
    "    if pd.isnull(row['rain_1h']):\n",
    "        instances.at[i, 'rain_1h'] = 0.0\n",
    "\n",
    "    if pd.isnull(row['Environmental Audio Exposure (dBASPL)']) and pd.isnull(row['Blood Oxygen Saturation (%)']) and not pd.isnull(row['Walking Speed (km/hr)']):\n",
    "        instances.at[i, 'Environmental Audio Exposure (dBASPL)'] = medianAudio\n",
    "        instances.at[i, 'Blood Oxygen Saturation (%)'] = medianBlood\n",
    "    elif pd.isnull(row['Environmental Audio Exposure (dBASPL)']) and not pd.isnull(row['Blood Oxygen Saturation (%)']) and not pd.isnull(row['Walking Speed (km/hr)']):\n",
    "        instances.at[i, 'Environmental Audio Exposure (dBASPL)'] = medianAudio\n",
    "    elif pd.isnull(row['Blood Oxygen Saturation (%)']) and not pd.isnull(row['Environmental Audio Exposure (dBASPL)']) and not pd.isnull(row['Walking Speed (km/hr)']):\n",
    "        instances.at[i, 'Blood Oxygen Saturation (%)'] = medianBlood\n",
    "    elif pd.isnull(row['Walking Speed (km/hr)']) and not pd.isnull(row['Environmental Audio Exposure (dBASPL)']) and not pd.isnull(row['Blood Oxygen Saturation (%)']):\n",
    "        instances.at[i, 'Walking Speed (km/hr)'] = 0.0\n",
    "    \n",
    "# drop all rows with missing values\n",
    "instances.dropna(inplace=True)\n",
    "\n",
    "# drop all duplicates (Date/Time excluded)\n",
    "instances.drop_duplicates(subset=instances.columns.difference(['Date/Time']), inplace=True)\n",
    "\n",
    "print('Number of remaining instances: ', len(instances))\n",
    "\n",
    "\n",
    "\n",
    "# instances['Environmental Audio Exposure (dBASPL)'].fillna(medianAudio, inplace=True)\n",
    "# instances['Blood Oxygen Saturation (%)'].fillna(medianBlood, inplace=True)\n",
    "# instances['Walking Speed (km/hr)'].fillna(0.0, inplace=True)\n",
    "\n",
    "instances.to_csv('Processed Data/Instances Imputed.csv', sep='\\t', index=False)\n"
   ]
  },
  {
   "cell_type": "code",
   "execution_count": 4,
   "metadata": {},
   "outputs": [
    {
     "name": "stdout",
     "output_type": "stream",
     "text": [
      "Stress Level\n",
      "Low       13571\n",
      "Medium     2315\n",
      "High       1255\n",
      "Name: count, dtype: int64\n"
     ]
    }
   ],
   "source": [
    "print(instances['Stress Level'].value_counts())\n"
   ]
  },
  {
   "cell_type": "code",
   "execution_count": 5,
   "metadata": {},
   "outputs": [
    {
     "name": "stdout",
     "output_type": "stream",
     "text": [
      "Date/Time                                False\n",
      "Stress Level                              True\n",
      "temp                                      True\n",
      "feels_like                                True\n",
      "temp_min                                  True\n",
      "temp_max                                  True\n",
      "pressure                                  True\n",
      "humidity                                  True\n",
      "wind_speed                                True\n",
      "rain_1h                                   True\n",
      "clouds_all                                True\n",
      "weather_main                              True\n",
      "Walking Speed (km/hr)                    False\n",
      "Environmental Audio Exposure (dBASPL)    False\n",
      "Blood Oxygen Saturation (%)               True\n",
      "dtype: bool\n"
     ]
    }
   ],
   "source": [
    "print(instances.iloc[2] == instances.iloc[3])\n"
   ]
  },
  {
   "cell_type": "code",
   "execution_count": 7,
   "metadata": {},
   "outputs": [
    {
     "name": "stdout",
     "output_type": "stream",
     "text": [
      "Weather condition to numeric value mapping: {'Clear': 0, 'Clouds': 1, 'Drizzle': 2, 'Fog': 3, 'Mist': 4, 'Rain': 5, 'Smoke': 6, 'Snow': 7, 'Thunderstorm': 8}\n",
      "                  Date/Time  Blood Oxygen Saturation (%)\n",
      "0 2022-02-01 12:11:45+00:00                           96\n",
      "1 2022-02-01 16:24:08+00:00                          100\n",
      "2 2022-02-01 23:25:25+00:00                           95\n",
      "3 2022-02-02 00:45:32+00:00                           98\n",
      "4 2022-02-02 02:06:10+00:00                           95\n"
     ]
    }
   ],
   "source": [
    "# Encode the 'weather_main' column to numeric values\n",
    "label_encoder = LabelEncoder()\n",
    "instances['weather_main'] = label_encoder.fit_transform(instances['weather_main'])\n",
    "\n",
    "# Display the mapping of weather conditions to numeric values\n",
    "weather_mapping = dict(zip(label_encoder.classes_, label_encoder.transform(label_encoder.classes_)))\n",
    "print(\"Weather condition to numeric value mapping:\", weather_mapping)\n",
    "\n",
    "# Display the first few rows of the transformed dataframe\n",
    "print(df.head())\n",
    "\n",
    "instances.to_csv('Processed Data/Instances Imputed.csv', sep='\\t', index=False)\n"
   ]
  }
 ],
 "metadata": {
  "kernelspec": {
   "display_name": "ml4qs",
   "language": "python",
   "name": "python3"
  },
  "language_info": {
   "codemirror_mode": {
    "name": "ipython",
    "version": 3
   },
   "file_extension": ".py",
   "mimetype": "text/x-python",
   "name": "python",
   "nbconvert_exporter": "python",
   "pygments_lexer": "ipython3",
   "version": "3.8.19"
  }
 },
 "nbformat": 4,
 "nbformat_minor": 2
}
