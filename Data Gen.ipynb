{
 "cells": [
  {
   "cell_type": "markdown",
   "metadata": {},
   "source": [
    "# Impute Values"
   ]
  },
  {
   "cell_type": "code",
   "execution_count": 1,
   "metadata": {},
   "outputs": [
    {
     "name": "stdout",
     "output_type": "stream",
     "text": [
      "Median of Environmental Audio Exposure (dBASPL): 69.73\n",
      "Median of Blood Oxygen Saturation (%): 97.0\n"
     ]
    },
    {
     "name": "stderr",
     "output_type": "stream",
     "text": [
      "/var/folders/sf/20skkktd46x8gg00sslntnnc0000gn/T/ipykernel_16805/1521338310.py:14: FutureWarning: A value is trying to be set on a copy of a DataFrame or Series through chained assignment using an inplace method.\n",
      "The behavior will change in pandas 3.0. This inplace method will never work because the intermediate object on which we are setting values always behaves as a copy.\n",
      "\n",
      "For example, when doing 'df[col].method(value, inplace=True)', try using 'df.method({col: value}, inplace=True)' or df[col] = df[col].method(value) instead, to perform the operation inplace on the original object.\n",
      "\n",
      "\n",
      "  instances['Environmental Audio Exposure (dBASPL)'].fillna(medianAudio, inplace=True)\n",
      "/var/folders/sf/20skkktd46x8gg00sslntnnc0000gn/T/ipykernel_16805/1521338310.py:15: FutureWarning: A value is trying to be set on a copy of a DataFrame or Series through chained assignment using an inplace method.\n",
      "The behavior will change in pandas 3.0. This inplace method will never work because the intermediate object on which we are setting values always behaves as a copy.\n",
      "\n",
      "For example, when doing 'df[col].method(value, inplace=True)', try using 'df.method({col: value}, inplace=True)' or df[col] = df[col].method(value) instead, to perform the operation inplace on the original object.\n",
      "\n",
      "\n",
      "  instances['Blood Oxygen Saturation (%)'].fillna(medianBlood, inplace=True)\n",
      "/var/folders/sf/20skkktd46x8gg00sslntnnc0000gn/T/ipykernel_16805/1521338310.py:16: FutureWarning: A value is trying to be set on a copy of a DataFrame or Series through chained assignment using an inplace method.\n",
      "The behavior will change in pandas 3.0. This inplace method will never work because the intermediate object on which we are setting values always behaves as a copy.\n",
      "\n",
      "For example, when doing 'df[col].method(value, inplace=True)', try using 'df.method({col: value}, inplace=True)' or df[col] = df[col].method(value) instead, to perform the operation inplace on the original object.\n",
      "\n",
      "\n",
      "  instances['Walking Speed (km/hr)'].fillna(0.0, inplace=True)\n"
     ]
    }
   ],
   "source": [
    "import pandas as pd\n",
    "\n",
    "instances = pd.read_csv('Instances.csv', delimiter='\\t')\n",
    "\n",
    "# get median of Environmental Audio Exposure (dBASPL)\n",
    "medianAudio = instances['Environmental Audio Exposure (dBASPL)'].median()\n",
    "\n",
    "# ge median of Blood Oxygen Saturation (%)\n",
    "medianBlood = instances['Blood Oxygen Saturation (%)'].median()\n",
    "\n",
    "print('Median of Environmental Audio Exposure (dBASPL):', medianAudio)\n",
    "print('Median of Blood Oxygen Saturation (%):', medianBlood)\n",
    "\n",
    "instances['Environmental Audio Exposure (dBASPL)'].fillna(medianAudio, inplace=True)\n",
    "instances['Blood Oxygen Saturation (%)'].fillna(medianBlood, inplace=True)\n",
    "instances['Walking Speed (km/hr)'].fillna(0.0, inplace=True)\n",
    "\n",
    "# instances.to_csv('instances_imputed.csv', sep='\\t', index=False)\n"
   ]
  },
  {
   "cell_type": "code",
   "execution_count": 32,
   "metadata": {},
   "outputs": [
    {
     "name": "stdout",
     "output_type": "stream",
     "text": [
      "Mean of HRV: 49.39074129297067\n"
     ]
    },
    {
     "data": {
      "image/png": "[encoded data removed]",
      "text/plain": [
       "<Figure size 640x480 with 1 Axes>"
      ]
     },
     "metadata": {},
     "output_type": "display_data"
    }
   ],
   "source": [
    "import numpy as np\n",
    "\n",
    "import matplotlib.pyplot as plt\n",
    "# Show histograms for each column\n",
    "restingHeartRateDf = pd.read_csv(\"Raw Data/Resting Heart Rate 2.csv\")\n",
    "\n",
    "# mean of resting heart rate\n",
    "meanRestingHeartRate = restingHeartRateDf['Resting Heart Rate (count/min)'].mean()\n",
    "\n",
    "instances['RR Interval BPM Max'] = 60000 / instances['Min (count/min)'] \n",
    "instances['RR Interval BPM Min'] = 60000 / instances['Max (count/min)'] \n",
    "hrv = instances['RR Interval BPM Max'] - instances['RR Interval BPM Min']  \n",
    "#histogram of HRV where HRV > 0\n",
    "plt.hist(hrv[hrv > 0], bins=100)\n",
    "print('Mean of HRV:', hrv[hrv > 0].mean())\n",
    "lowHRVThresh, medHRVThresh, highHRVTrhesh = hrv.quantile([0.25, 0.5, 0.75])\n",
    "print('25th percentile of HRV:', lowHRVThresh)\n",
    "print('50th percentile of HRV:', medHRVThresh)\n",
    "print('75th percentile of HRV:', highHRVTrhesh)\n",
    "\n",
    "# print('Mean of HRV:', instances['Heart Rate Variability (ms)'].mean())\n",
    "\n",
    "# instances['HRV'] = np.sqrt(((instances['Min (count/min)'] - instances['Avg (count/min)'])**2 + (instances['Max (count/min)'] - instances['Avg (count/min)'])**2) / 2)\n",
    "# hrv = instances['HRV']\n",
    "# # hrv = instances['Heart Rate Variability (ms)']\n",
    "# print('Mean of HRV:', hrv.mean())\n",
    "# print('Median of HRV:', hrv.median())\n",
    "# print('Standard deviation of HRV:', hrv.std())\n",
    "# print('Maximum of HRV:', hrv.max())\n",
    "\n",
    "# plt.hist(hrv[hrv > 0], bins=100)\n",
    "\n",
    "# print the number of instances where HRV is greater than 0\n",
    "#print('Number of instances where HRV is greater than 0:', hrv[hrv > 0].count())\n",
    "\n",
    "\n",
    "# in 1 minuut:\n",
    "# Eerste meting\n",
    "# 30 ms\n",
    "# 25 ms\n",
    "# 25 ms\n",
    "# 27 ms\n",
    "# 29 ms\n",
    "# average: 27.2 ms -> 80 bpm\n",
    "\n",
    "# Tweede meting\n",
    "# 32 ms\n",
    "# 30 ms\n",
    "# 25 ms\n",
    "# 30 ms\n",
    "# 31 ms\n",
    "# average: 30.4 ms -> 100 bpm\n",
    "\n",
    "# Derde meting\n",
    "#....\n",
    "\n",
    "\n",
    "# HRV: verschil tusssen alle ms\n",
    "# HRV Proxy: met bpm min-max\n",
    "\n",
    "\n",
    "\n",
    "# cardiovascular stress level\n",
    "# heart rate hoog + lage HRV -> stress\n",
    "# heart rate gemiddeld -> normaal stress\n",
    "# heart rate laag -> niet gestrest\n",
    "\n",
    "# HEART RATE HOOG IS 75TH PERCENTILE\n",
    "# HEART RATE GEMIDDELD IS 50TH PERCENTILE\n",
    "# HEART RATE LAAG IS 25TH PERCENTILE\n",
    "# code to get quantiles:\n",
    "lowHeartThresh, medHeartThresh, highHeartTrhesh = instances['Avg (count/min)'].quantile([0.25, 0.5, 0.75])\n",
    "\n",
    "\n",
    "\n"
   ]
  }
 ],
 "metadata": {
  "kernelspec": {
   "display_name": "ml4qs",
   "language": "python",
   "name": "python3"
  },
  "language_info": {
   "codemirror_mode": {
    "name": "ipython",
    "version": 3
   },
   "file_extension": ".py",
   "mimetype": "text/x-python",
   "name": "python",
   "nbconvert_exporter": "python",
   "pygments_lexer": "ipython3",
   "version": "3.10.8"
  }
 },
 "nbformat": 4,
 "nbformat_minor": 2
}
